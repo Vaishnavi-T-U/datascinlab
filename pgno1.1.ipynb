{
 "cells": [
  {
   "cell_type": "code",
   "execution_count": 1,
   "id": "bafe5941-5b9a-4689-be2f-fed2ccae6e62",
   "metadata": {},
   "outputs": [
    {
     "name": "stdout",
     "output_type": "stream",
     "text": [
      "Demo of basic data types:Numbers\n",
      "x= 3\n",
      "y= 2.5\n",
      "Data type of variable x:  <class 'int'>\n",
      "Data type of variable y:  <class 'float'>\n",
      "Addition: 5.5\n",
      "Subtraction: 0.5\n",
      "Multiplication: 6\n",
      "Exponentiation: 9\n"
     ]
    }
   ],
   "source": [
    "print(\"Demo of basic data types:Numbers\")\n",
    "x,y=3,2.5\n",
    "print(\"x=\",x)\n",
    "print(\"y=\",y)\n",
    "print(\"Data type of variable x: \",type(x))\n",
    "print(\"Data type of variable y: \",type(y))\n",
    "print(\"Addition:\",x+y)\n",
    "print(\"Subtraction:\",x-y)\n",
    "print(\"Multiplication:\",x*2)\n",
    "print(\"Exponentiation:\",x**2)\n"
   ]
  },
  {
   "cell_type": "code",
   "execution_count": 2,
   "id": "d07b5abe-6811-43a0-aacc-041213012650",
   "metadata": {},
   "outputs": [
    {
     "name": "stdout",
     "output_type": "stream",
     "text": [
      "Demo of basic data types:Boolean\n",
      "t= True\n",
      "f= False\n",
      "Data type of variable t:  <class 'bool'>\n",
      "Data type of variable f:  <class 'bool'>\n",
      "Logical AND operation: False\n",
      "Logical OR operation: True\n",
      "Logical NOT operation: False\n",
      "Logical XOR operation: True\n"
     ]
    }
   ],
   "source": [
    "print(\"Demo of basic data types:Boolean\")\n",
    "t,f=True,False\n",
    "print(\"t=\",t)\n",
    "print(\"f=\",f)\n",
    "print(\"Data type of variable t: \",type(t))\n",
    "print(\"Data type of variable f: \",type(f))\n",
    "print(\"Logical AND operation:\",t and f)\n",
    "print(\"Logical OR operation:\",t or f)\n",
    "print(\"Logical NOT operation:\",not t)\n",
    "print(\"Logical XOR operation:\",t!=f)\n"
   ]
  },
  {
   "cell_type": "code",
   "execution_count": 5,
   "id": "1db2a373-d6f9-4e0d-8ecd-fb2787cb9c4a",
   "metadata": {},
   "outputs": [
    {
     "name": "stdout",
     "output_type": "stream",
     "text": [
      "Demo of basic data types:String\n",
      "string1= hello\n",
      "string2= world\n",
      "String Concatenation:  hello world\n",
      "Capitalize:  Hello world\n",
      "Converted to uppercase:  HELLO\n",
      "Right justify a string:    hello\n",
      "String at center:   hello \n",
      "After replacing l with ell:  he(ell)(ell)o\n",
      "String after striping leading and trailing white spaces:  world\n"
     ]
    }
   ],
   "source": [
    "print(\"Demo of basic data types:String\")\n",
    "s,t=\"hello\",\"world\"\n",
    "print(\"string1=\",s)\n",
    "print(\"string2=\",t)\n",
    "d=s+\" \"+t\n",
    "print(\"String Concatenation: \",d)\n",
    "print(\"Capitalize: \",d.capitalize())\n",
    "print(\"Converted to uppercase: \",s.upper())\n",
    "print(\"Right justify a string: \",s.rjust(7))\n",
    "print(\"String at center: \",s.center(7))\n",
    "print(\"After replacing l with ell: \",s.replace('l','(ell)'))\n",
    "print(\"String after striping leading and trailing white spaces: \",'world'.strip())"
   ]
  },
  {
   "cell_type": "code",
   "execution_count": 7,
   "id": "c132514c-e98d-4537-87fe-dcf09d7df0a3",
   "metadata": {},
   "outputs": [
    {
     "name": "stdout",
     "output_type": "stream",
     "text": [
      "Containers:lists \n",
      "list 'nums' contains: [0, 1, 2, 3, 4]\n",
      "List can contain elements of different types eg:  [0, 1, 2, 3, 'abc']\n",
      "nums after inserting new element at the end: \n",
      "sublists:\n",
      "A slice from index 2 to 4: [2, 3]\n",
      "A slice from index 2 to the end: [2, 3, 'abc', 'xyz']\n",
      "A slice from the start to index 2: [0, 1]\n",
      "A slice of the whole list: [0, 1, 2, 3, 'abc', 'xyz']\n",
      "After assigning a new  sublist to nums :\n",
      "1: 0\n",
      "2: 1\n",
      "3: 2\n",
      "4: 3\n",
      "5: 8\n",
      "6: 9\n",
      "List of squares of even numbers from 'nums':  [0, 4, 64]\n"
     ]
    }
   ],
   "source": [
    "print(\"Containers:lists \")\n",
    "nums=list(range(5))\n",
    "print(\"list 'nums' contains:\",nums)\n",
    "nums[4]=\"abc\"\n",
    "print(\"List can contain elements of different types eg: \",nums)\n",
    "nums.append(\"xyz\")\n",
    "print(\"nums after inserting new element at the end: \")\n",
    "print(\"sublists:\")\n",
    "print(\"A slice from index 2 to 4:\",nums[2:4])\n",
    "print(\"A slice from index 2 to the end:\",nums[2:])\n",
    "print(\"A slice from the start to index 2:\",nums[:2])\n",
    "print(\"A slice of the whole list:\",nums[:])\n",
    "nums[4:]=[8,9]\n",
    "print(\"After assigning a new  sublist to nums :\")\n",
    "for idx,i in enumerate(nums):\n",
    "    print('%d: %s'%(idx+1,i))\n",
    "even_squares=[x**2 for x in nums if x%2==0]\n",
    "print(\"List of squares of even numbers from 'nums': \",even_squares)"
   ]
  },
  {
   "cell_type": "code",
   "execution_count": 12,
   "id": "e50efa05-cdfa-42ff-9149-4079248d3700",
   "metadata": {},
   "outputs": [
    {
     "name": "stdout",
     "output_type": "stream",
     "text": [
      "Containers:Dictionaries \n",
      "Dictionary: {'cat': 'cute', 'dog': 'furry'}\n",
      "Is the dictionary has the key 'cat'? True\n",
      "After adding new entry to d:  {'cat': 'cute', 'dog': 'furry', 'fish': 'wet'}\n",
      "Get an element monkey: N/A\n",
      "Get an element fish: wet\n",
      "After deleting new added entry from 'd':  {'cat': 'cute', 'dog': 'furry'}\n",
      "Demo of dictionary comprehension: \n",
      "Squares of integers of range 10 :\n",
      "0 : 0\n",
      "1 : 1\n",
      "2 : 4\n",
      "3 : 9\n",
      "4 : 16\n",
      "5 : 25\n",
      "6 : 36\n",
      "7 : 49\n",
      "8 : 64\n",
      "9 : 81\n"
     ]
    }
   ],
   "source": [
    "print(\"Containers:Dictionaries \")\n",
    "d=dict()\n",
    "d={'cat':'cute','dog':'furry'}\n",
    "print(\"Dictionary:\",d)\n",
    "print(\"Is the dictionary has the key 'cat'?\",'cat'in d)\n",
    "d['fish']='wet'\n",
    "print(\"After adding new entry to d: \",d)\n",
    "print(\"Get an element monkey:\",d.get('monkey','N/A'))\n",
    "print(\"Get an element fish:\",d.get('fish','N/A'))\n",
    "del d['fish']\n",
    "print(\"After deleting new added entry from 'd': \",d)\n",
    "print(\"Demo of dictionary comprehension: \")\n",
    "squares={x:x*x for x in range(10)}\n",
    "print(\"Squares of integers of range 10 :\")\n",
    "for k,v in squares.items():\n",
    "    print(k,\":\",v)\n"
   ]
  },
  {
   "cell_type": "code",
   "execution_count": 15,
   "id": "dd089042-67eb-407a-8776-cdf041e7534b",
   "metadata": {},
   "outputs": [
    {
     "name": "stdout",
     "output_type": "stream",
     "text": [
      "Containers:Sets \n",
      "Set 'num1': {120, 100, 110}\n",
      "'num1 'after inserting 90: {120, 90, 100, 110}\n",
      "'num1 'after inserting multiple elements: {100, 70, 110, 50, 120, 90, 60}\n",
      "'num1 'after removing 60: {100, 70, 110, 50, 120, 90}\n",
      "Set comprehension and set operations:\n",
      "n1= {0, 1, 2, 3, 4, 5, 6, 7, 8, 9}\n",
      "n2= {1, 3, 5, 7, 9}\n",
      "n1 union n2:  {0, 1, 2, 3, 4, 5, 6, 7, 8, 9}\n",
      "n1 intersection n2:  {1, 3, 5, 7, 9}\n",
      "n1 difference n2:  {0, 2, 4, 6, 8}\n"
     ]
    }
   ],
   "source": [
    "print(\"Containers:Sets \")\n",
    "num1={100,110,120}\n",
    "print(\"Set 'num1':\",num1)\n",
    "num1.add(90)\n",
    "print(\"'num1 'after inserting 90:\",num1)\n",
    "num1.update([50,60,70])\n",
    "print(\"'num1 'after inserting multiple elements:\",num1)\n",
    "num1.remove(60)\n",
    "print(\"'num1 'after removing 60:\",num1)\n",
    "print(\"Set comprehension and set operations:\")\n",
    "n1={x for x in range(10)}\n",
    "print(\"n1=\",n1)\n",
    "n2={x for x in range(10) if x%2!=0}\n",
    "print(\"n2=\",n2)\n",
    "print(\"n1 union n2: \",n1|n2)\n",
    "print(\"n1 intersection n2: \",n1&n2)\n",
    "print(\"n1 difference n2: \",n1-n2)"
   ]
  },
  {
   "cell_type": "code",
   "execution_count": 16,
   "id": "9785525d-7cec-408f-baba-ce9a075f9eaa",
   "metadata": {},
   "outputs": [
    {
     "name": "stdout",
     "output_type": "stream",
     "text": [
      "Containers:Tuples \n",
      "Dictionary with tuple keys: \n",
      "(0, 1) : 0\n",
      "(1, 2) : 1\n",
      "(2, 3) : 2\n",
      "(3, 4) : 3\n",
      "(4, 5) : 4\n",
      "(5, 6) : 5\n",
      "(6, 7) : 6\n",
      "(7, 8) : 7\n",
      "(8, 9) : 8\n",
      "(9, 10) : 9\n",
      "Tuple t: (5, 6)\n",
      "5\n",
      "1\n"
     ]
    }
   ],
   "source": [
    "print(\"Containers:Tuples \")\n",
    "d={(x,x+1):x for x in range(10)}\n",
    "print(\"Dictionary with tuple keys: \")\n",
    "for k,v in d.items():\n",
    "    print(k,\":\",v)\n",
    "t=(5,6)\n",
    "print(\"Tuple t:\",t)\n",
    "print(d[t])\n",
    "print(d[1,2])"
   ]
  },
  {
   "cell_type": "code",
   "execution_count": 18,
   "id": "fa9d50c4-6648-484b-b6b5-a13cf104d4ef",
   "metadata": {},
   "outputs": [
    {
     "name": "stdout",
     "output_type": "stream",
     "text": [
      "Demo of function:progrm to find factorial of a number\n"
     ]
    },
    {
     "name": "stdin",
     "output_type": "stream",
     "text": [
      "Enter a number: 5\n"
     ]
    },
    {
     "name": "stdout",
     "output_type": "stream",
     "text": [
      "Factorial: 120\n"
     ]
    }
   ],
   "source": [
    "print(\"Demo of function:progrm to find factorial of a number\")\n",
    "def fact(n):\n",
    "    if n==1:\n",
    "        return 1\n",
    "    else:\n",
    "        return(n*fact(n-1))\n",
    "n=int(input(\"Enter a number:\"))\n",
    "print(\"Factorial:\",fact(n))"
   ]
  },
  {
   "cell_type": "code",
   "execution_count": 19,
   "id": "39774d43-fcff-471f-9985-e9de032346bf",
   "metadata": {},
   "outputs": [
    {
     "name": "stdout",
     "output_type": "stream",
     "text": [
      "Hello,Fred\n",
      "HELLO,FRED!\n"
     ]
    }
   ],
   "source": [
    "class Greeter:\n",
    "    def __init__(self,name):\n",
    "        self.name=name\n",
    "    def greet(self,loud=False):\n",
    "        if loud:\n",
    "            print('HELLO,%s!'% self.name.upper())\n",
    "        else:\n",
    "            print('Hello,%s'% self.name)\n",
    "g=Greeter('Fred')\n",
    "g.greet()\n",
    "g.greet(loud=True)"
   ]
  },
  {
   "cell_type": "code",
   "execution_count": null,
   "id": "e3f1d162-0430-45ac-a68c-d002ee88a356",
   "metadata": {},
   "outputs": [],
   "source": []
  }
 ],
 "metadata": {
  "kernelspec": {
   "display_name": "Python 3 (ipykernel)",
   "language": "python",
   "name": "python3"
  },
  "language_info": {
   "codemirror_mode": {
    "name": "ipython",
    "version": 3
   },
   "file_extension": ".py",
   "mimetype": "text/x-python",
   "name": "python",
   "nbconvert_exporter": "python",
   "pygments_lexer": "ipython3",
   "version": "3.12.4"
  }
 },
 "nbformat": 4,
 "nbformat_minor": 5
}
