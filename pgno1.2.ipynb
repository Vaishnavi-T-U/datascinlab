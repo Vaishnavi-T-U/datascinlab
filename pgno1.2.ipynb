{
 "cells": [
  {
   "cell_type": "code",
   "execution_count": 2,
   "id": "11e08176-be4f-41b9-b2b0-36057b6ab52c",
   "metadata": {},
   "outputs": [
    {
     "name": "stdout",
     "output_type": "stream",
     "text": [
      "One dimensional array a=  [1 2 3]\n",
      "Two dimensional array b=  [[1 2 3]\n",
      " [4 5 6]]\n",
      "Size of the array  (3,)\n",
      "Elements at indices 0,1,2 1 2 3\n",
      "Array after changing the element at index 0: [5 2 3]\n",
      "An array of all zeros [[0. 0.]\n",
      " [0. 0.]]\n",
      "An array of all ones [[1. 1.]]\n",
      "A constant array [[7 7]\n",
      " [7 7]]\n",
      "A 2*2 identity matrix [[1. 0.]\n",
      " [0. 1.]]\n",
      "An array with random values [[0.04175254 0.89923872]\n",
      " [0.02004921 0.57385681]]\n"
     ]
    }
   ],
   "source": [
    "import numpy as np\n",
    "a=np.array([1,2,3])\n",
    "print(\"One dimensional array a= \",a)\n",
    "b=np.array([[1,2,3],[4,5,6]])\n",
    "print(\"Two dimensional array b= \",b)\n",
    "print(\"Size of the array \",a.shape)\n",
    "print(\"Elements at indices 0,1,2\",a[0],a[1],a[2])\n",
    "a[0]=5\n",
    "print(\"Array after changing the element at index 0:\",a)\n",
    "a=np.zeros((2,2))\n",
    "print(\"An array of all zeros\",a)\n",
    "b=np.ones((1,2))\n",
    "print(\"An array of all ones\",b)\n",
    "c=np.full((2,2),7)\n",
    "print(\"A constant array\",c)\n",
    "d=np.eye(2)\n",
    "print(\"A 2*2 identity matrix\",d)\n",
    "e=np.random.random((2,2))\n",
    "print(\"An array with random values\",e)"
   ]
  },
  {
   "cell_type": "code",
   "execution_count": 10,
   "id": "5eefc33a-85b2-447a-9c69-ebb17c8739b3",
   "metadata": {},
   "outputs": [
    {
     "name": "stdout",
     "output_type": "stream",
     "text": [
      "Array indexing:slicing\n",
      "a1= [[ 1  2  3  4]\n",
      " [ 5  6  7  8]\n",
      " [ 9 10 11 12]]\n",
      "Subarray consisting of first two rows and columns one and two: [[2 3]\n",
      " [6 7]]\n",
      "Subarray consists of second row: [[5 6 7 8]]\n",
      "Accessing columns: [[5 6 7 8]]\n",
      "[ 2  6 10] (3,)\n",
      "[[1 2]] (1, 2)\n",
      "Array integer indexing\n",
      "a2= [[1 2]\n",
      " [3 4]\n",
      " [5 6]]\n",
      "Example of array indexing [1 4 5]\n",
      "[2 2]\n",
      "[2 2]\n",
      "a3= [[ 1  2  3]\n",
      " [ 4  5  6]\n",
      " [ 7  8  9]\n",
      " [10 11 12]]\n",
      "a3= [ 1  6  7 11]\n",
      "a3=  [[11  2  3]\n",
      " [ 4  5 16]\n",
      " [17  8  9]\n",
      " [10 21 12]]\n",
      "Boolean array indexing: \n",
      "a= [[1 2]\n",
      " [3 4]\n",
      " [5 6]]\n",
      "Elements greater than 2:  [3 4 5 6]\n"
     ]
    }
   ],
   "source": [
    "import numpy as np\n",
    "print(\"Array indexing:slicing\")\n",
    "a1=np.array([[1,2,3,4],[5,6,7,8],[9,10,11,12]])\n",
    "print(\"a1=\",a1)\n",
    "b=a1[:2,1:3]\n",
    "print(\"Subarray consisting of first two rows and columns one and two:\",b)\n",
    "b=a1[1:2,:]\n",
    "print(\"Subarray consists of second row:\",b)\n",
    "print(\"Accessing columns:\",b)\n",
    "b=a1[:,1]\n",
    "print(b,b.shape)\n",
    "c=a1[:1,:2]\n",
    "print(c,c.shape)\n",
    "print(\"Array integer indexing\")\n",
    "a2=np.array([[1,2],[3,4],[5,6]])\n",
    "print(\"a2=\",a2)\n",
    "print(\"Example of array indexing\",a2[[0,1,2],[0,1,0]])\n",
    "print(a2[[0,0],[1,1]])\n",
    "print(np.array([a2[0,1],a[0,1]]))\n",
    "a3=a=np.array([[1,2,3],[4,5,6],[7,8,9],[10,11,12]])\n",
    "print(\"a3=\",a3)\n",
    "b=np.array([0,2,0,1])\n",
    "print(\"a3=\",a3[np.arange(4),b])\n",
    "a3[np.arange(4),b]+=10\n",
    "print(\"a3= \",a3)\n",
    "print(\"Boolean array indexing: \")\n",
    "a=np.array([[1,2],[3,4],[5,6]])\n",
    "print(\"a=\",a)\n",
    "bool_idx=(a>2)\n",
    "print(\"Elements greater than 2: \",a[bool_idx])"
   ]
  },
  {
   "cell_type": "code",
   "execution_count": 3,
   "id": "3a495eee-7fbb-466f-81d9-e31369bf8cc9",
   "metadata": {},
   "outputs": [
    {
     "name": "stdout",
     "output_type": "stream",
     "text": [
      "x= [[1. 2.]\n",
      " [3. 4.]]\n",
      "y= [[6. 9.]\n",
      " [4. 4.]]\n",
      "Element wise addition:  [[2. 4.]\n",
      " [6. 8.]]\n",
      "Element wise subtraction:  [[-5. -7.]\n",
      " [-1.  0.]]\n",
      "Element wise multiplication:  [[ 6. 18.]\n",
      " [12. 16.]]\n",
      "Element wise square root of x:  [[1.         1.41421356]\n",
      " [1.73205081 2.        ]]\n",
      "Matrix multiplication:  [[14. 17.]\n",
      " [34. 43.]]\n",
      "Sum of all elements of matrix x:  10.0\n",
      "Sum of elements in each column of matrix y:  [10. 13.]\n",
      "Sum of elements in each row of matrix y:  [15.  8.]\n",
      "Transpose of matrix x:  [[1. 3.]\n",
      " [2. 4.]]\n"
     ]
    }
   ],
   "source": [
    "import numpy as np\n",
    "x=np.array([[1,2],[3,4]],dtype=np.float64)\n",
    "y=np.array([[6,9],[4,4]],dtype=np.float64)\n",
    "print(\"x=\",x)\n",
    "print(\"y=\",y)\n",
    "print(\"Element wise addition: \",np.add(x,x))\n",
    "print(\"Element wise subtraction: \",np.subtract(x,y))\n",
    "print(\"Element wise multiplication: \",np.multiply(x,y))\n",
    "print(\"Element wise square root of x: \",np.sqrt(x))\n",
    "print(\"Matrix multiplication: \",np.dot(x,y))\n",
    "print(\"Sum of all elements of matrix x: \",np.sum(x))\n",
    "print(\"Sum of elements in each column of matrix y: \",np.sum(y,axis=0))\n",
    "print(\"Sum of elements in each row of matrix y: \",np.sum(y,axis=1))\n",
    "print(\"Transpose of matrix x: \",x.T)\n",
    "\n",
    "\n",
    "\n",
    "\n",
    "\n"
   ]
  },
  {
   "cell_type": "code",
   "execution_count": 8,
   "id": "6201d79f-23f0-4a3d-b84a-7ce037331baf",
   "metadata": {},
   "outputs": [
    {
     "name": "stdout",
     "output_type": "stream",
     "text": [
      "Example for broadcasting:\n",
      "v= [1 2 3]\n",
      "w= [4 5]\n",
      "Outer product of above vectors:\n",
      "[[ 4  5]\n",
      " [ 8 10]\n",
      " [12 15]]\n",
      "x= [[1 2 3]\n",
      " [4 5 6]]\n",
      "Resultant matrix after adding the vector v to each row of matrix x:\n",
      "[[2 4 6]\n",
      " [5 7 9]]\n",
      "Example for broadcasting fails:\n",
      "Adding the vector x to each column of matrix w will generate an error\n",
      "Solution:reshape the matrix w then the result will be:\n",
      "[[ 5  6  7]\n",
      " [ 9 10 11]]\n"
     ]
    }
   ],
   "source": [
    "import numpy as np\n",
    "print(\"Example for broadcasting:\")\n",
    "v=np.array([1,2,3])\n",
    "w=np.array([4,5])\n",
    "print(\"v=\",v)\n",
    "print(\"w=\",w)\n",
    "print(\"Outer product of above vectors:\")\n",
    "print(np.reshape(v,(3,1))*w)\n",
    "x=np.array([[1,2,3],[4,5,6]])\n",
    "print(\"x=\",x)\n",
    "print(\"Resultant matrix after adding the vector v to each row of matrix x:\")\n",
    "print(x+v)\n",
    "print(\"Example for broadcasting fails:\")\n",
    "print(\"Adding the vector x to each column of matrix w will generate an error\")\n",
    "print(\"Solution:reshape the matrix w then the result will be:\")\n",
    "print(x+np.reshape(w,(2,1)))"
   ]
  },
  {
   "cell_type": "code",
   "execution_count": 11,
   "id": "af6ca75c-2bf4-47a4-ab51-6848318593a0",
   "metadata": {},
   "outputs": [
    {
     "name": "stdout",
     "output_type": "stream",
     "text": [
      "A= [[1 2]\n",
      " [3 4]\n",
      " [5 6]]\n",
      "Shape of array A: (3, 2)\n",
      " \n",
      "U= [[-0.2298477   0.88346102  0.40824829]\n",
      " [-0.52474482  0.24078249 -0.81649658]\n",
      " [-0.81964194 -0.40189603  0.40824829]]\n",
      "Shape of matrix U: (3, 3)\n",
      " \n",
      "Sigma(diagonal matrix),s= [9.52551809 0.51430058]\n",
      " Shape of matrix sigma: (2,)\n",
      " \n",
      "Transpose matrix,VT=  [[-0.61962948 -0.78489445]\n",
      " [-0.78489445  0.61962948]]\n",
      "Shape of matrix VT: (2, 2)\n"
     ]
    }
   ],
   "source": [
    "from numpy import array\n",
    "from scipy.linalg import svd\n",
    "A=array([[1,2],[3,4],[5,6]])\n",
    "print(\"A=\",A)\n",
    "print(\"Shape of array A:\",A.shape)\n",
    "print(\" \")\n",
    "U,s,VT=svd(A)\n",
    "print(\"U=\",U)\n",
    "print(\"Shape of matrix U:\",U.shape)\n",
    "print(\" \")\n",
    "print(\"Sigma(diagonal matrix),s=\",s)\n",
    "print(\" Shape of matrix sigma:\",s.shape)\n",
    "print(\" \")\n",
    "print(\"Transpose matrix,VT= \",VT)\n",
    "print(\"Shape of matrix VT:\",VT.shape)"
   ]
  },
  {
   "cell_type": "code",
   "execution_count": 12,
   "id": "e8f39ca0-007e-44b1-9c13-aa42c5ae6eb5",
   "metadata": {},
   "outputs": [
    {
     "name": "stdout",
     "output_type": "stream",
     "text": [
      "A= [[1 2]\n",
      " [3 4]\n",
      " [5 6]]\n",
      "Shape of array A: (3, 2)\n",
      "U= [[-0.2298477   0.88346102  0.40824829]\n",
      " [-0.52474482  0.24078249 -0.81649658]\n",
      " [-0.81964194 -0.40189603  0.40824829]]\n",
      "Shape of matrix U: (3, 3)\n",
      "Sigma(diagonal matrix),s= [9.52551809 0.51430058]\n",
      " Shape of matrix s: (2,)\n",
      "VT=  [[-0.61962948 -0.78489445]\n",
      " [-0.78489445  0.61962948]]\n",
      "Shape of diagonal matrix  (2, 2)\n",
      "Reconstructed matrix: [[1. 2.]\n",
      " [3. 4.]\n",
      " [5. 6.]]\n"
     ]
    }
   ],
   "source": [
    "from numpy import array,diag,zeros\n",
    "from scipy.linalg import svd\n",
    "A=array([[1,2],[3,4],[5,6]])\n",
    "print(\"A=\",A)\n",
    "print(\"Shape of array A:\",A.shape)\n",
    "U,s,VT=svd(A)\n",
    "print(\"U=\",U)\n",
    "print(\"Shape of matrix U:\",U.shape)\n",
    "print(\"Sigma(diagonal matrix),s=\",s)\n",
    "print(\" Shape of matrix s:\",s.shape)\n",
    "print(\"VT= \",VT)\n",
    "print(\"Shape of diagonal matrix \",VT.shape)\n",
    "sigma=zeros((A.shape[0],A.shape[1]))\n",
    "sigma[:A.shape[1],:A.shape[1]]=diag(s)\n",
    "B=U.dot(sigma.dot(VT))\n",
    "print(\"Reconstructed matrix:\",B)"
   ]
  },
  {
   "cell_type": "code",
   "execution_count": 16,
   "id": "9b841753-275c-4b63-b1d8-17abcc3e5af4",
   "metadata": {},
   "outputs": [
    {
     "name": "stdout",
     "output_type": "stream",
     "text": [
      "A= [[1 2]\n",
      " [3 4]\n",
      " [5 6]]\n",
      "Pseudoinverse of matrix A calculated by function pinv is:\n",
      "[[-1.33333333 -0.33333333  0.66666667]\n",
      " [ 1.08333333  0.33333333 -0.41666667]]\n",
      "Pseudoinverse of matrix A calculated by using svd is:\n",
      "[[-1.33333333 -0.33333333  0.66666667]\n",
      " [ 1.08333333  0.33333333 -0.41666667]]\n"
     ]
    }
   ],
   "source": [
    "from numpy import array,diag,zeros\n",
    "from scipy.linalg import pinv\n",
    "from numpy.linalg import svd\n",
    "A=array([[1,2],[3,4],[5,6]])\n",
    "print(\"A=\",A)\n",
    "print(\"Pseudoinverse of matrix A calculated by function pinv is:\")\n",
    "print(pinv(A))\n",
    "d=1.0/s\n",
    "D=zeros(A.shape)\n",
    "D[:A.shape[1],:A.shape[1]]=diag(d)\n",
    "B=VT.T.dot(D.T).dot(U.T)\n",
    "print(\"Pseudoinverse of matrix A calculated by using svd is:\");\n",
    "print(B)"
   ]
  },
  {
   "cell_type": "code",
   "execution_count": null,
   "id": "f9ede517-098c-48f3-b14c-377f4bbe49b5",
   "metadata": {},
   "outputs": [],
   "source": []
  }
 ],
 "metadata": {
  "kernelspec": {
   "display_name": "Python 3 (ipykernel)",
   "language": "python",
   "name": "python3"
  },
  "language_info": {
   "codemirror_mode": {
    "name": "ipython",
    "version": 3
   },
   "file_extension": ".py",
   "mimetype": "text/x-python",
   "name": "python",
   "nbconvert_exporter": "python",
   "pygments_lexer": "ipython3",
   "version": "3.12.4"
  }
 },
 "nbformat": 4,
 "nbformat_minor": 5
}
